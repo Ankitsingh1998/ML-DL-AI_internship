{
  "nbformat": 4,
  "nbformat_minor": 0,
  "metadata": {
    "colab": {
      "name": "Day083.ipynb",
      "provenance": [],
      "collapsed_sections": []
    },
    "kernelspec": {
      "name": "python3",
      "display_name": "Python 3"
    },
    "language_info": {
      "name": "python"
    },
    "accelerator": "GPU"
  },
  "cells": [
    {
      "cell_type": "code",
      "metadata": {
        "colab": {
          "base_uri": "https://localhost:8080/",
          "height": 203
        },
        "id": "sjWAuTMwmn4H",
        "outputId": "aed6ad1c-b9a9-406f-9bf2-f79c4a9ed436"
      },
      "source": [
        "\"\"\"\n",
        "from google.colab import drive\n",
        "drive.mount('/content/drive/')\n",
        "\"\"\"\n",
        "\n",
        "import pandas as pd\n",
        "path = \"/content/drive/MyDrive/Forsk coding school code practices/Balanced_reviews.csv\"\n",
        "\n",
        "df = pd.read_csv(path)\n",
        "\n",
        "df.head(5)\n"
      ],
      "execution_count": 1,
      "outputs": [
        {
          "output_type": "execute_result",
          "data": {
            "text/html": [
              "<div>\n",
              "<style scoped>\n",
              "    .dataframe tbody tr th:only-of-type {\n",
              "        vertical-align: middle;\n",
              "    }\n",
              "\n",
              "    .dataframe tbody tr th {\n",
              "        vertical-align: top;\n",
              "    }\n",
              "\n",
              "    .dataframe thead th {\n",
              "        text-align: right;\n",
              "    }\n",
              "</style>\n",
              "<table border=\"1\" class=\"dataframe\">\n",
              "  <thead>\n",
              "    <tr style=\"text-align: right;\">\n",
              "      <th></th>\n",
              "      <th>overall</th>\n",
              "      <th>reviewText</th>\n",
              "      <th>summary</th>\n",
              "    </tr>\n",
              "  </thead>\n",
              "  <tbody>\n",
              "    <tr>\n",
              "      <th>0</th>\n",
              "      <td>1</td>\n",
              "      <td>this is a VERY thing cheap looking ring. it lo...</td>\n",
              "      <td>CHEAP CHEAP looking</td>\n",
              "    </tr>\n",
              "    <tr>\n",
              "      <th>1</th>\n",
              "      <td>1</td>\n",
              "      <td>Bought July 2017 and stopped working about two...</td>\n",
              "      <td>One Star</td>\n",
              "    </tr>\n",
              "    <tr>\n",
              "      <th>2</th>\n",
              "      <td>1</td>\n",
              "      <td>This was too thin and did not hold up well whe...</td>\n",
              "      <td>Too thin</td>\n",
              "    </tr>\n",
              "    <tr>\n",
              "      <th>3</th>\n",
              "      <td>1</td>\n",
              "      <td>This is the worst excuse for a wig I have ever...</td>\n",
              "      <td>Don't buy this wig!!!</td>\n",
              "    </tr>\n",
              "    <tr>\n",
              "      <th>4</th>\n",
              "      <td>1</td>\n",
              "      <td>Horrible. Had them three months only wear them...</td>\n",
              "      <td>waste of money</td>\n",
              "    </tr>\n",
              "  </tbody>\n",
              "</table>\n",
              "</div>"
            ],
            "text/plain": [
              "   overall  ...                summary\n",
              "0        1  ...    CHEAP CHEAP looking\n",
              "1        1  ...               One Star\n",
              "2        1  ...               Too thin\n",
              "3        1  ...  Don't buy this wig!!!\n",
              "4        1  ...         waste of money\n",
              "\n",
              "[5 rows x 3 columns]"
            ]
          },
          "metadata": {},
          "execution_count": 1
        }
      ]
    },
    {
      "cell_type": "code",
      "metadata": {
        "id": "XqvPI5cLqCcd"
      },
      "source": [
        "df.isnull().any(axis=0)\n",
        "df.dropna(inplace=True)\n",
        "df.shape\n",
        "\n",
        "df = df[df['overall'] != 3]\n",
        "df.shape\n",
        "df['overall'].value_counts()\n",
        "\n",
        "import numpy as np\n",
        "df['positivity'] = np.where(df['overall'] > 3, 1, 0)\n",
        "df.shape\n",
        "\n",
        "df['positivity'].value_counts()\n",
        "\n",
        "features = df['reviewText']\n",
        "labels = df['positivity']\n",
        "\n",
        "from sklearn.model_selection import train_test_split\n",
        "features_train, features_test, labels_train, labels_test = train_test_split(features, labels, test_size = 0.5, random_state=42)\n",
        "\n",
        "#Tf-idf : Term frequency - inverse document frequency\n",
        "from sklearn.feature_extraction.text import TfidfVectorizer\n",
        "vect = TfidfVectorizer(min_df=5, max_features=2000).fit(features_train)\n",
        "#min_df means ignore the terms/words that appears less than the set value, by default it is 5. \n",
        "\n",
        "len(vect.vocabulary_) #to get total number of vaocabulary created\n",
        "\n",
        "len(vect.get_feature_names())\n",
        "vect.get_feature_names()[2561:2566]\n",
        "\n",
        "features_train_vectorized = vect.transform(features_train)\n",
        "features_train_vectorized = features_train_vectorized.todense()"
      ],
      "execution_count": 2,
      "outputs": []
    },
    {
      "cell_type": "code",
      "metadata": {
        "colab": {
          "base_uri": "https://localhost:8080/"
        },
        "id": "OUCUMYU0urt8",
        "outputId": "d0478ba1-384b-4496-d437-dea2f07d3e51"
      },
      "source": [
        "features_train_vectorized"
      ],
      "execution_count": 3,
      "outputs": [
        {
          "output_type": "execute_result",
          "data": {
            "text/plain": [
              "matrix([[0., 0., 0., ..., 0., 0., 0.],\n",
              "        [0., 0., 0., ..., 0., 0., 0.],\n",
              "        [0., 0., 0., ..., 0., 0., 0.],\n",
              "        ...,\n",
              "        [0., 0., 0., ..., 0., 0., 0.],\n",
              "        [0., 0., 0., ..., 0., 0., 0.],\n",
              "        [0., 0., 0., ..., 0., 0., 0.]])"
            ]
          },
          "metadata": {},
          "execution_count": 3
        }
      ]
    },
    {
      "cell_type": "code",
      "metadata": {
        "id": "zm2q7WsAwv45"
      },
      "source": [
        "#Hidden layers : 100, 500, 50\n",
        "#IL Nodes: 5000 - max_features/total features\n",
        "#OL Nodes: 1 single node with sigmoid activation - classification/binary"
      ],
      "execution_count": 4,
      "outputs": []
    },
    {
      "cell_type": "code",
      "metadata": {
        "id": "PsN98d1zxn_h"
      },
      "source": [
        "#Deep Learning modules\n",
        "import numpy as np\n",
        "from keras.models import Sequential\n",
        "from keras.layers.core import Dense, Dropout, Activation\n",
        "from keras.optimizers import adadelta_v2, adam_v2, rmsprop_v2\n",
        "from keras.utils import np_utils\n"
      ],
      "execution_count": 5,
      "outputs": []
    },
    {
      "cell_type": "code",
      "metadata": {
        "id": "PcMx4miP1u4O"
      },
      "source": [
        "#Deep layer model building in keras\n",
        "#del model\n",
        "\n",
        "model = Sequential()\n",
        "\n",
        "model.add(Dense(1000, input_shape=(2000,)))\n",
        "\n",
        "model.add(Activation('relu'))\n",
        "\n",
        "model.add(Dropout(0.5))\n",
        "\n",
        "model.add(Dense(500))\n",
        "\n",
        "model.add(Activation('relu'))\n",
        "\n",
        "model.add(Dropout(0.5))\n",
        "\n",
        "model.add(Dense(50))\n",
        "\n",
        "model.add(Activation('relu'))\n",
        "\n",
        "model.add(Dropout(0.5))\n",
        "\n",
        "model.add(Dense(1))\n",
        "\n",
        "model.add(Activation('sigmoid'))\n",
        "\n",
        "model.compile(loss='binary_crossentropy', optimizer='adam')"
      ],
      "execution_count": 6,
      "outputs": []
    },
    {
      "cell_type": "code",
      "metadata": {
        "colab": {
          "base_uri": "https://localhost:8080/"
        },
        "id": "M64gi48o4YcY",
        "outputId": "1eea7e5e-c269-4d99-b7b9-bf3d19d8c140"
      },
      "source": [
        "model.fit(features_train_vectorized, labels_train, batch_size=32, epochs=10)"
      ],
      "execution_count": 7,
      "outputs": [
        {
          "output_type": "stream",
          "text": [
            "Epoch 1/10\n",
            "8240/8240 [==============================] - 26s 3ms/step - loss: 0.2744\n",
            "Epoch 2/10\n",
            "8240/8240 [==============================] - 22s 3ms/step - loss: 0.2357\n",
            "Epoch 3/10\n",
            "8240/8240 [==============================] - 22s 3ms/step - loss: 0.2054\n",
            "Epoch 4/10\n",
            "8240/8240 [==============================] - 22s 3ms/step - loss: 0.1716\n",
            "Epoch 5/10\n",
            "8240/8240 [==============================] - 22s 3ms/step - loss: 0.1409\n",
            "Epoch 6/10\n",
            "8240/8240 [==============================] - 22s 3ms/step - loss: 0.1174\n",
            "Epoch 7/10\n",
            "8240/8240 [==============================] - 22s 3ms/step - loss: 0.1013\n",
            "Epoch 8/10\n",
            "8240/8240 [==============================] - 22s 3ms/step - loss: 0.0873\n",
            "Epoch 9/10\n",
            "8240/8240 [==============================] - 22s 3ms/step - loss: 0.0779\n",
            "Epoch 10/10\n",
            "8240/8240 [==============================] - 22s 3ms/step - loss: 0.0700\n"
          ],
          "name": "stdout"
        },
        {
          "output_type": "execute_result",
          "data": {
            "text/plain": [
              "<keras.callbacks.History at 0x7f7c723f7a90>"
            ]
          },
          "metadata": {},
          "execution_count": 7
        }
      ]
    },
    {
      "cell_type": "code",
      "metadata": {
        "id": "YgqC4y9B7DXs"
      },
      "source": [
        "#Model prediction\n",
        "labels_train_predictionclass = model.predict_classes(features_train_vectorized, batch_size=32)\n",
        "\n",
        "labels_test_predictionclass = model.predict_classes(vect.transform(features_test).todense(), batch_size=32)\n",
        "\n",
        "from sklearn.metrics import accuracy_score\n",
        "\n",
        "print ((\"nnDeep Neural Network - Train accuracy:\"),(round(accuracy_score( labels_train, labels_train_predictionclass),3)))\n",
        "\n",
        "print ((\"nDeep Neural Network - Test accuracy:\"),(round(accuracy_score( labels_test,labels_test_predictionclass),3)))"
      ],
      "execution_count": null,
      "outputs": []
    },
    {
      "cell_type": "code",
      "metadata": {
        "id": "xocW6Rt79ehF"
      },
      "source": [
        "model.save('model.h5')"
      ],
      "execution_count": null,
      "outputs": []
    },
    {
      "cell_type": "code",
      "metadata": {
        "id": "lml0IVdF9fB6"
      },
      "source": [
        "#how to load the keras model\n",
        "from keras.models import load_model\n",
        "recreated_model = load_model('model.h5')"
      ],
      "execution_count": null,
      "outputs": []
    },
    {
      "cell_type": "code",
      "metadata": {
        "id": "jKYiH_jh9hSm"
      },
      "source": [
        "model.summary()"
      ],
      "execution_count": null,
      "outputs": []
    },
    {
      "cell_type": "markdown",
      "metadata": {
        "id": "yd6a5oF79rn8"
      },
      "source": [
        "#*Dropout is a technique where randomly selected neurons are ignored during training. They are “dropped-out” randomly. This means that their contribution to the activation of downstream neurons is temporally removed on the forward pass and any weight updates are not applied to the neuron on the backward pass*"
      ]
    }
  ]
}