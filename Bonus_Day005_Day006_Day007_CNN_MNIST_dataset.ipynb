{
  "nbformat": 4,
  "nbformat_minor": 0,
  "metadata": {
    "colab": {
      "name": "Bonus_Day005_CNN_MNIST_dataset.ipynb",
      "provenance": [],
      "collapsed_sections": []
    },
    "kernelspec": {
      "name": "python3",
      "display_name": "Python 3"
    },
    "language_info": {
      "name": "python"
    }
  },
  "cells": [
    {
      "cell_type": "markdown",
      "metadata": {
        "id": "FybIVABlJmAI"
      },
      "source": [
        "https://blog.paperspace.com/intro-to-optimization-momentum-rmsprop-adam/"
      ]
    },
    {
      "cell_type": "code",
      "metadata": {
        "id": "zR_-C07bJom4"
      },
      "source": [
        "import keras"
      ],
      "execution_count": 41,
      "outputs": []
    },
    {
      "cell_type": "code",
      "metadata": {
        "id": "WRtDz3H2Jora"
      },
      "source": [
        "from keras.datasets import mnist\n",
        "#MNIST dataset downloaded in image format and already converted to categorical data\n",
        "\n",
        "(features_train, labels_train), (features_test, labels_test) = mnist.load_data() #60000/10000 - training and testing data"
      ],
      "execution_count": 42,
      "outputs": []
    },
    {
      "cell_type": "code",
      "metadata": {
        "colab": {
          "base_uri": "https://localhost:8080/"
        },
        "id": "2kX9AmUtKFsf",
        "outputId": "92d620fe-0ee1-4057-ee9f-aa225689aee2"
      },
      "source": [
        "print(features_train.shape) #60000, 28, 28\n",
        "print(labels_train.shape) #10000, 28, 28\n",
        "print(features_test.shape) #60000,\n",
        "print(labels_test.shape) #10000,"
      ],
      "execution_count": 43,
      "outputs": [
        {
          "output_type": "stream",
          "name": "stdout",
          "text": [
            "(60000, 28, 28)\n",
            "(60000,)\n",
            "(10000, 28, 28)\n",
            "(10000,)\n"
          ]
        }
      ]
    },
    {
      "cell_type": "code",
      "metadata": {
        "colab": {
          "base_uri": "https://localhost:8080/"
        },
        "id": "0-N5w6ISLCNB",
        "outputId": "835e73cd-52ca-4228-ca13-7c56ca689e69"
      },
      "source": [
        "print(features_train[0].shape) #28, 28\n",
        "print(features_train[0][0].shape) #28,"
      ],
      "execution_count": 44,
      "outputs": [
        {
          "output_type": "stream",
          "name": "stdout",
          "text": [
            "(28, 28)\n",
            "(28,)\n"
          ]
        }
      ]
    },
    {
      "cell_type": "code",
      "metadata": {
        "colab": {
          "base_uri": "https://localhost:8080/"
        },
        "id": "-pz0lXDBLPxZ",
        "outputId": "3a65aef3-4729-4054-bc35-b4e72093b133"
      },
      "source": [
        "features_train[9]\n",
        "features_train[12][0]"
      ],
      "execution_count": 45,
      "outputs": [
        {
          "output_type": "execute_result",
          "data": {
            "text/plain": [
              "array([0, 0, 0, 0, 0, 0, 0, 0, 0, 0, 0, 0, 0, 0, 0, 0, 0, 0, 0, 0, 0, 0,\n",
              "       0, 0, 0, 0, 0, 0], dtype=uint8)"
            ]
          },
          "metadata": {},
          "execution_count": 45
        }
      ]
    },
    {
      "cell_type": "code",
      "metadata": {
        "colab": {
          "base_uri": "https://localhost:8080/"
        },
        "id": "T2HsPCxnLfhn",
        "outputId": "8eefcbec-53c5-49b4-99da-f3d8a638e942"
      },
      "source": [
        "labels_train"
      ],
      "execution_count": 46,
      "outputs": [
        {
          "output_type": "execute_result",
          "data": {
            "text/plain": [
              "array([5, 0, 4, ..., 5, 6, 8], dtype=uint8)"
            ]
          },
          "metadata": {},
          "execution_count": 46
        }
      ]
    },
    {
      "cell_type": "code",
      "metadata": {
        "id": "sspcj2KeNM2y"
      },
      "source": [
        "features_test[0]"
      ],
      "execution_count": null,
      "outputs": []
    },
    {
      "cell_type": "code",
      "metadata": {
        "colab": {
          "base_uri": "https://localhost:8080/"
        },
        "id": "kd9Uib6rNNMf",
        "outputId": "813e6211-5114-40ab-eca2-527b53459883"
      },
      "source": [
        "labels_test"
      ],
      "execution_count": 48,
      "outputs": [
        {
          "output_type": "execute_result",
          "data": {
            "text/plain": [
              "array([7, 2, 1, ..., 4, 5, 6], dtype=uint8)"
            ]
          },
          "metadata": {},
          "execution_count": 48
        }
      ]
    },
    {
      "cell_type": "code",
      "metadata": {
        "id": "lOwAYEqtN-Wz"
      },
      "source": [
        "features_train = features_train.reshape((60000, 28, 28, 1)) #reshaping - 60000 images, widht/height known. we have to provide depth-1"
      ],
      "execution_count": 49,
      "outputs": []
    },
    {
      "cell_type": "code",
      "metadata": {
        "colab": {
          "base_uri": "https://localhost:8080/"
        },
        "id": "eRiUsIxBOPQP",
        "outputId": "accd1068-1a85-49f5-b959-f77e0dfa6383"
      },
      "source": [
        "features_train.shape #60000, 28, 28, 1"
      ],
      "execution_count": 50,
      "outputs": [
        {
          "output_type": "execute_result",
          "data": {
            "text/plain": [
              "(60000, 28, 28, 1)"
            ]
          },
          "metadata": {},
          "execution_count": 50
        }
      ]
    },
    {
      "cell_type": "code",
      "metadata": {
        "id": "PKd6OElvORw4"
      },
      "source": [
        "features_train[0]"
      ],
      "execution_count": null,
      "outputs": []
    },
    {
      "cell_type": "code",
      "metadata": {
        "id": "NbRRf4K7ObcP"
      },
      "source": [
        "#feature scaling - min/max scaling, range: [0-1]\n",
        "features_train = features_train.astype('float32') / 255 "
      ],
      "execution_count": 53,
      "outputs": []
    },
    {
      "cell_type": "code",
      "metadata": {
        "id": "Sel25O3lRV0x"
      },
      "source": [
        "features_train[10]"
      ],
      "execution_count": null,
      "outputs": []
    },
    {
      "cell_type": "code",
      "metadata": {
        "id": "TB-wFZjqRYC6"
      },
      "source": [
        "#testing data - feature scaling\n",
        "features_test.shape #10000, 28, 28\n",
        "features_test = features_test.reshape((10000, 28, 28, 1))\n",
        "\n",
        "features_test = features_test.astype('float32') / 255\n",
        "\n",
        "features_test[0]"
      ],
      "execution_count": null,
      "outputs": []
    },
    {
      "cell_type": "code",
      "metadata": {
        "id": "vcw2rnYzSLM3"
      },
      "source": [
        "from tensorflow.keras.utils import to_categorical\n",
        "\n",
        "labels_train = to_categorical(labels_train, num_classes=10, dtype='float32')\n",
        "labels_test = to_categorical(labels_test, num_classes=10)"
      ],
      "execution_count": 56,
      "outputs": []
    },
    {
      "cell_type": "code",
      "metadata": {
        "colab": {
          "base_uri": "https://localhost:8080/"
        },
        "id": "CmOFiH8WWBM2",
        "outputId": "f58cd978-93ca-4438-afdf-47804c7dff05"
      },
      "source": [
        "print(labels_train.shape)\n",
        "labels_train[0]"
      ],
      "execution_count": 57,
      "outputs": [
        {
          "output_type": "stream",
          "name": "stdout",
          "text": [
            "(60000, 10)\n"
          ]
        },
        {
          "output_type": "execute_result",
          "data": {
            "text/plain": [
              "array([0., 0., 0., 0., 0., 1., 0., 0., 0., 0.], dtype=float32)"
            ]
          },
          "metadata": {},
          "execution_count": 57
        }
      ]
    },
    {
      "cell_type": "code",
      "metadata": {
        "colab": {
          "base_uri": "https://localhost:8080/"
        },
        "id": "iiOdzIP9Y6D3",
        "outputId": "25952320-8824-4f05-a404-5eb086cc07fc"
      },
      "source": [
        "print(labels_test.shape)\n",
        "labels_test[0]"
      ],
      "execution_count": 58,
      "outputs": [
        {
          "output_type": "stream",
          "name": "stdout",
          "text": [
            "(10000, 10)\n"
          ]
        },
        {
          "output_type": "execute_result",
          "data": {
            "text/plain": [
              "array([0., 0., 0., 0., 0., 0., 0., 1., 0., 0.], dtype=float32)"
            ]
          },
          "metadata": {},
          "execution_count": 58
        }
      ]
    },
    {
      "cell_type": "code",
      "metadata": {
        "id": "xoJHBM8rZLLN"
      },
      "source": [
        "from keras import layers\n",
        "from keras import models"
      ],
      "execution_count": 59,
      "outputs": []
    },
    {
      "cell_type": "code",
      "metadata": {
        "id": "afiNtV_YZXls"
      },
      "source": [
        "model = models.Sequential() #empty sequential model - now going to add\n",
        "model.add(layers.Conv2D(32, (3, 3), activation = 'relu', input_shape = (28, 28, 1))) #node, filter - 3*3/5*5, activation function, input shape of image - width*height*depth (depth --> grey-1, color-3)\n",
        "model.add(layers.MaxPooling2D((2, 2)))\n",
        "model.add(layers.Conv2D(16, (5, 5), activation = 'relu')) #Conv2D - fixed pixels for all images, for different pixel images we have to use Conv3D\n",
        "model.add(layers.MaxPooling2D((2, 2)))\n",
        "\n",
        "#Now, flattening after two times repeating convolution/max_pooling\n",
        "model.add(layers.Flatten())\n",
        "\n",
        "#ANN\n",
        "model.add(layers.Dense(64, activation='relu')) #nodes,activation function\n",
        "model.add(layers.Dense(10, activation='softmax')) #nodes - equal to number of classes which is from 0 to 9/last layer, activation function - softmax/multiclass classification"
      ],
      "execution_count": 88,
      "outputs": []
    },
    {
      "cell_type": "code",
      "metadata": {
        "colab": {
          "base_uri": "https://localhost:8080/"
        },
        "id": "a6TPxQckbmPg",
        "outputId": "49d1882c-e373-4c63-fe64-3bf05247eebd"
      },
      "source": [
        "#Compiling - optimize it (rmsprop, adam), loss function, accuracy metrics\n",
        "model.compile(optimizer='rmsprop',loss='categorical_crossentropy',metrics=['accuracy'])\n",
        "\n",
        "model.fit(features_train, labels_train, epochs=50, batch_size=64)"
      ],
      "execution_count": 63,
      "outputs": [
        {
          "output_type": "stream",
          "name": "stdout",
          "text": [
            "Epoch 1/50\n",
            "938/938 [==============================] - 44s 46ms/step - loss: 0.2273 - accuracy: 0.9310\n",
            "Epoch 2/50\n",
            "938/938 [==============================] - 43s 46ms/step - loss: 0.0721 - accuracy: 0.9773\n",
            "Epoch 3/50\n",
            "938/938 [==============================] - 43s 46ms/step - loss: 0.0503 - accuracy: 0.9846\n",
            "Epoch 4/50\n",
            "938/938 [==============================] - 44s 46ms/step - loss: 0.0384 - accuracy: 0.9879\n",
            "Epoch 5/50\n",
            "938/938 [==============================] - 43s 46ms/step - loss: 0.0317 - accuracy: 0.9904\n",
            "Epoch 6/50\n",
            "938/938 [==============================] - 43s 46ms/step - loss: 0.0259 - accuracy: 0.9920\n",
            "Epoch 7/50\n",
            "938/938 [==============================] - 43s 46ms/step - loss: 0.0220 - accuracy: 0.9929\n",
            "Epoch 8/50\n",
            "938/938 [==============================] - 43s 46ms/step - loss: 0.0187 - accuracy: 0.9941\n",
            "Epoch 9/50\n",
            "938/938 [==============================] - 43s 46ms/step - loss: 0.0169 - accuracy: 0.9948\n",
            "Epoch 10/50\n",
            "938/938 [==============================] - 43s 46ms/step - loss: 0.0144 - accuracy: 0.9950\n",
            "Epoch 11/50\n",
            "938/938 [==============================] - 43s 46ms/step - loss: 0.0124 - accuracy: 0.9960\n",
            "Epoch 12/50\n",
            "938/938 [==============================] - 44s 47ms/step - loss: 0.0108 - accuracy: 0.9966\n",
            "Epoch 13/50\n",
            "938/938 [==============================] - 44s 46ms/step - loss: 0.0102 - accuracy: 0.9966\n",
            "Epoch 14/50\n",
            "938/938 [==============================] - 44s 47ms/step - loss: 0.0084 - accuracy: 0.9974\n",
            "Epoch 15/50\n",
            "938/938 [==============================] - 43s 46ms/step - loss: 0.0072 - accuracy: 0.9978\n",
            "Epoch 16/50\n",
            "938/938 [==============================] - 43s 46ms/step - loss: 0.0066 - accuracy: 0.9979\n",
            "Epoch 17/50\n",
            "938/938 [==============================] - 43s 46ms/step - loss: 0.0056 - accuracy: 0.9981\n",
            "Epoch 18/50\n",
            "938/938 [==============================] - 43s 46ms/step - loss: 0.0059 - accuracy: 0.9981\n",
            "Epoch 19/50\n",
            "938/938 [==============================] - 43s 46ms/step - loss: 0.0051 - accuracy: 0.9985\n",
            "Epoch 20/50\n",
            "938/938 [==============================] - 43s 46ms/step - loss: 0.0044 - accuracy: 0.9987\n",
            "Epoch 21/50\n",
            "938/938 [==============================] - 43s 46ms/step - loss: 0.0041 - accuracy: 0.9985\n",
            "Epoch 22/50\n",
            "938/938 [==============================] - 43s 46ms/step - loss: 0.0038 - accuracy: 0.9989\n",
            "Epoch 23/50\n",
            "938/938 [==============================] - 43s 46ms/step - loss: 0.0033 - accuracy: 0.9989\n",
            "Epoch 24/50\n",
            "938/938 [==============================] - 43s 46ms/step - loss: 0.0043 - accuracy: 0.9987\n",
            "Epoch 25/50\n",
            "938/938 [==============================] - 43s 46ms/step - loss: 0.0027 - accuracy: 0.9991\n",
            "Epoch 26/50\n",
            "938/938 [==============================] - 44s 47ms/step - loss: 0.0033 - accuracy: 0.9990\n",
            "Epoch 27/50\n",
            "938/938 [==============================] - 44s 47ms/step - loss: 0.0026 - accuracy: 0.9992\n",
            "Epoch 28/50\n",
            "938/938 [==============================] - 44s 47ms/step - loss: 0.0024 - accuracy: 0.9994\n",
            "Epoch 29/50\n",
            "938/938 [==============================] - 43s 46ms/step - loss: 0.0019 - accuracy: 0.9994\n",
            "Epoch 30/50\n",
            "938/938 [==============================] - 43s 46ms/step - loss: 0.0025 - accuracy: 0.9992\n",
            "Epoch 31/50\n",
            "938/938 [==============================] - 43s 46ms/step - loss: 0.0015 - accuracy: 0.9994\n",
            "Epoch 32/50\n",
            "938/938 [==============================] - 43s 46ms/step - loss: 0.0022 - accuracy: 0.9993\n",
            "Epoch 33/50\n",
            "938/938 [==============================] - 43s 46ms/step - loss: 0.0016 - accuracy: 0.9995\n",
            "Epoch 34/50\n",
            "938/938 [==============================] - 43s 46ms/step - loss: 0.0019 - accuracy: 0.9993\n",
            "Epoch 35/50\n",
            "938/938 [==============================] - 43s 46ms/step - loss: 0.0017 - accuracy: 0.9995\n",
            "Epoch 36/50\n",
            "938/938 [==============================] - 43s 46ms/step - loss: 0.0017 - accuracy: 0.9996\n",
            "Epoch 37/50\n",
            "938/938 [==============================] - 43s 46ms/step - loss: 0.0019 - accuracy: 0.9994\n",
            "Epoch 38/50\n",
            "938/938 [==============================] - 43s 46ms/step - loss: 0.0016 - accuracy: 0.9994\n",
            "Epoch 39/50\n",
            "938/938 [==============================] - 43s 46ms/step - loss: 0.0022 - accuracy: 0.9994\n",
            "Epoch 40/50\n",
            "938/938 [==============================] - 43s 46ms/step - loss: 0.0011 - accuracy: 0.9997\n",
            "Epoch 41/50\n",
            "938/938 [==============================] - 44s 47ms/step - loss: 0.0016 - accuracy: 0.9994\n",
            "Epoch 42/50\n",
            "938/938 [==============================] - 43s 46ms/step - loss: 0.0012 - accuracy: 0.9996\n",
            "Epoch 43/50\n",
            "938/938 [==============================] - 44s 46ms/step - loss: 0.0013 - accuracy: 0.9996\n",
            "Epoch 44/50\n",
            "938/938 [==============================] - 43s 46ms/step - loss: 0.0016 - accuracy: 0.9996\n",
            "Epoch 45/50\n",
            "938/938 [==============================] - 43s 46ms/step - loss: 0.0019 - accuracy: 0.9994\n",
            "Epoch 46/50\n",
            "938/938 [==============================] - 44s 47ms/step - loss: 0.0013 - accuracy: 0.9996\n",
            "Epoch 47/50\n",
            "938/938 [==============================] - 44s 46ms/step - loss: 7.4298e-04 - accuracy: 0.9997\n",
            "Epoch 48/50\n",
            "938/938 [==============================] - 44s 46ms/step - loss: 0.0014 - accuracy: 0.9996\n",
            "Epoch 49/50\n",
            "938/938 [==============================] - 44s 46ms/step - loss: 8.8444e-04 - accuracy: 0.9996\n",
            "Epoch 50/50\n",
            "938/938 [==============================] - 44s 46ms/step - loss: 9.5408e-04 - accuracy: 0.9998\n"
          ]
        },
        {
          "output_type": "execute_result",
          "data": {
            "text/plain": [
              "<keras.callbacks.History at 0x7f745b432cd0>"
            ]
          },
          "metadata": {},
          "execution_count": 63
        }
      ]
    },
    {
      "cell_type": "code",
      "metadata": {
        "colab": {
          "base_uri": "https://localhost:8080/"
        },
        "id": "BAH_TeITjJ_c",
        "outputId": "c8ca24c3-2449-47e8-b9d6-b15d56bf8980"
      },
      "source": [
        "test_loss, test_accuracy = model.evaluate(features_test, labels_test) #loss and accuracy"
      ],
      "execution_count": 64,
      "outputs": [
        {
          "output_type": "stream",
          "name": "stdout",
          "text": [
            "313/313 [==============================] - 3s 8ms/step - loss: 0.1256 - accuracy: 0.9892\n"
          ]
        }
      ]
    },
    {
      "cell_type": "code",
      "metadata": {
        "colab": {
          "base_uri": "https://localhost:8080/"
        },
        "id": "xYd4MhIOjalC",
        "outputId": "5c51c537-7f98-4282-d2e7-ae55e4f0ff90"
      },
      "source": [
        "features_test[0].shape"
      ],
      "execution_count": 65,
      "outputs": [
        {
          "output_type": "execute_result",
          "data": {
            "text/plain": [
              "(28, 28, 1)"
            ]
          },
          "metadata": {},
          "execution_count": 65
        }
      ]
    },
    {
      "cell_type": "code",
      "metadata": {
        "colab": {
          "base_uri": "https://localhost:8080/"
        },
        "id": "OKu1wpu9jcrq",
        "outputId": "adbd8c72-e07b-443e-f584-607899308aba"
      },
      "source": [
        "print('Test accuracy is:',test_accuracy)"
      ],
      "execution_count": 66,
      "outputs": [
        {
          "output_type": "stream",
          "name": "stdout",
          "text": [
            "Test accuracy is: 0.9891999959945679\n"
          ]
        }
      ]
    },
    {
      "cell_type": "code",
      "metadata": {
        "colab": {
          "base_uri": "https://localhost:8080/"
        },
        "id": "yo1UZTcTjnqs",
        "outputId": "125e4696-b91b-49cf-95a7-d69fc2aa47b2"
      },
      "source": [
        "model.layers"
      ],
      "execution_count": 67,
      "outputs": [
        {
          "output_type": "execute_result",
          "data": {
            "text/plain": [
              "[<keras.layers.convolutional.Conv2D at 0x7f745b47ac10>,\n",
              " <keras.layers.pooling.MaxPooling2D at 0x7f745b47ac90>,\n",
              " <keras.layers.convolutional.Conv2D at 0x7f745fbe6a10>,\n",
              " <keras.layers.pooling.MaxPooling2D at 0x7f745b473bd0>,\n",
              " <keras.layers.core.Flatten at 0x7f745b473b10>,\n",
              " <keras.layers.core.Dense at 0x7f745b473a50>,\n",
              " <keras.layers.core.Dense at 0x7f745b473cd0>]"
            ]
          },
          "metadata": {},
          "execution_count": 67
        }
      ]
    },
    {
      "cell_type": "code",
      "metadata": {
        "colab": {
          "base_uri": "https://localhost:8080/"
        },
        "id": "8mkivvqNjqX0",
        "outputId": "1bf6e1d8-85c2-4c3d-909a-aa7b536c56aa"
      },
      "source": [
        "type(features_train)"
      ],
      "execution_count": 68,
      "outputs": [
        {
          "output_type": "execute_result",
          "data": {
            "text/plain": [
              "numpy.ndarray"
            ]
          },
          "metadata": {},
          "execution_count": 68
        }
      ]
    },
    {
      "cell_type": "code",
      "metadata": {
        "colab": {
          "base_uri": "https://localhost:8080/"
        },
        "id": "eCKIPU2GkJKx",
        "outputId": "b581dc54-a405-4fa5-c29b-8a529b99409d"
      },
      "source": [
        "features_train[10].shape"
      ],
      "execution_count": 69,
      "outputs": [
        {
          "output_type": "execute_result",
          "data": {
            "text/plain": [
              "(28, 28, 1)"
            ]
          },
          "metadata": {},
          "execution_count": 69
        }
      ]
    },
    {
      "cell_type": "code",
      "metadata": {
        "id": "FPKtc-GwkBar"
      },
      "source": [
        "testing_data = features_train[10].reshape(1,28,28,1)"
      ],
      "execution_count": 70,
      "outputs": []
    },
    {
      "cell_type": "code",
      "metadata": {
        "colab": {
          "base_uri": "https://localhost:8080/"
        },
        "id": "h5LGJoISkO-7",
        "outputId": "a4a4e275-3e67-4f7f-c249-895244861c75"
      },
      "source": [
        "testing_data.shape"
      ],
      "execution_count": 71,
      "outputs": [
        {
          "output_type": "execute_result",
          "data": {
            "text/plain": [
              "(1, 28, 28, 1)"
            ]
          },
          "metadata": {},
          "execution_count": 71
        }
      ]
    },
    {
      "cell_type": "code",
      "metadata": {
        "colab": {
          "base_uri": "https://localhost:8080/"
        },
        "id": "XOmA0v0VkUo0",
        "outputId": "b53afbe4-be4f-4fad-a781-6243b90b0814"
      },
      "source": [
        "import numpy as np\n",
        "np.argmax(model.predict(testing_data), axis=-1) #for multi-class classification/softmax function\n",
        "#Set axis=-1 means, extract largest indices in each row. Here we have only one row."
      ],
      "execution_count": 75,
      "outputs": [
        {
          "output_type": "execute_result",
          "data": {
            "text/plain": [
              "array([3])"
            ]
          },
          "metadata": {},
          "execution_count": 75
        }
      ]
    },
    {
      "cell_type": "code",
      "metadata": {
        "colab": {
          "base_uri": "https://localhost:8080/"
        },
        "id": "io3FvMAXkf8k",
        "outputId": "34cd7568-804c-4e72-f214-b7d8dbfc2c89"
      },
      "source": [
        "labels_train[10]"
      ],
      "execution_count": 76,
      "outputs": [
        {
          "output_type": "execute_result",
          "data": {
            "text/plain": [
              "array([0., 0., 0., 1., 0., 0., 0., 0., 0., 0.], dtype=float32)"
            ]
          },
          "metadata": {},
          "execution_count": 76
        }
      ]
    },
    {
      "cell_type": "code",
      "metadata": {
        "colab": {
          "base_uri": "https://localhost:8080/"
        },
        "id": "RyAJ73iLkjmz",
        "outputId": "d810a444-ded9-4e32-dda4-8854c1f1a751"
      },
      "source": [
        "labels_train[10].argmax()"
      ],
      "execution_count": 77,
      "outputs": [
        {
          "output_type": "execute_result",
          "data": {
            "text/plain": [
              "3"
            ]
          },
          "metadata": {},
          "execution_count": 77
        }
      ]
    },
    {
      "cell_type": "code",
      "metadata": {
        "colab": {
          "base_uri": "https://localhost:8080/",
          "height": 35
        },
        "id": "ORNYptb9km_S",
        "outputId": "6391d723-e707-4304-9d32-71bc9bdd74cd"
      },
      "source": [
        "\"\"\"\n",
        "Website for better understanding:\n",
        "https://medium.com/coinmonks/handwritten-digit-prediction-using-convolutional-neural-networks-in-tensorflow-with-keras-and-live-5ebddf46dc8\n",
        "\"\"\""
      ],
      "execution_count": 78,
      "outputs": [
        {
          "output_type": "execute_result",
          "data": {
            "application/vnd.google.colaboratory.intrinsic+json": {
              "type": "string"
            },
            "text/plain": [
              "'\\nWebsite for better understanding:\\nhttps://medium.com/coinmonks/handwritten-digit-prediction-using-convolutional-neural-networks-in-tensorflow-with-keras-and-live-5ebddf46dc8\\n'"
            ]
          },
          "metadata": {},
          "execution_count": 78
        }
      ]
    },
    {
      "cell_type": "code",
      "metadata": {
        "colab": {
          "base_uri": "https://localhost:8080/"
        },
        "id": "_NJ5mDXXk_Nn",
        "outputId": "fef35a8b-ddc4-42eb-9798-f45030af0ebd"
      },
      "source": [
        "features_test.shape"
      ],
      "execution_count": 79,
      "outputs": [
        {
          "output_type": "execute_result",
          "data": {
            "text/plain": [
              "(10000, 28, 28, 1)"
            ]
          },
          "metadata": {},
          "execution_count": 79
        }
      ]
    },
    {
      "cell_type": "code",
      "metadata": {
        "id": "yoHot32DlH-A"
      },
      "source": [
        "test_data = features_test"
      ],
      "execution_count": 80,
      "outputs": []
    },
    {
      "cell_type": "code",
      "metadata": {
        "id": "DzlHt1jflKAc"
      },
      "source": [
        "predictions = np.argmax(model.predict(test_data), axis=-1) #for multi-class classification/softmax function"
      ],
      "execution_count": 91,
      "outputs": []
    },
    {
      "cell_type": "code",
      "metadata": {
        "id": "xTIVGAp5wkOC"
      },
      "source": [
        "list(zip(predictions, labels_test.argmax(axis=1)))"
      ],
      "execution_count": null,
      "outputs": []
    },
    {
      "cell_type": "code",
      "metadata": {
        "colab": {
          "base_uri": "https://localhost:8080/"
        },
        "id": "ptM9N6xglThB",
        "outputId": "f56e19d7-e8c1-4315-f4c1-9f181462efa4"
      },
      "source": [
        "from sklearn.metrics import confusion_matrix\n",
        "\n",
        "cm = confusion_matrix(labels_test.argmax(axis=1), predictions) #10*10\n",
        "\n",
        "print(cm)"
      ],
      "execution_count": 90,
      "outputs": [
        {
          "output_type": "stream",
          "name": "stdout",
          "text": [
            "[[ 973    1    0    0    0    2    1    1    2    0]\n",
            " [   0 1131    0    0    0    0    1    2    0    1]\n",
            " [   2    1 1020    1    1    0    0    7    0    0]\n",
            " [   0    0    2 1003    0    3    0    1    1    0]\n",
            " [   0    0    1    0  978    0    1    0    0    2]\n",
            " [   1    0    1    4    0  882    1    1    1    1]\n",
            " [   5    2    0    1    4    1  944    0    1    0]\n",
            " [   0    2    3    0    0    0    0 1021    0    2]\n",
            " [   5    0    3    2    0    1    0    2  960    1]\n",
            " [   2    3    0    3   10    6    0    3    2  980]]\n"
          ]
        }
      ]
    }
  ]
}